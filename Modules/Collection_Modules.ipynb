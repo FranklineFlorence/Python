{
  "nbformat": 4,
  "nbformat_minor": 0,
  "metadata": {
    "colab": {
      "provenance": [],
      "collapsed_sections": [],
      "authorship_tag": "ABX9TyNd4xFPJGTpjqsxxP2m/I8B",
      "include_colab_link": true
    },
    "kernelspec": {
      "name": "python3",
      "display_name": "Python 3"
    },
    "language_info": {
      "name": "python"
    }
  },
  "cells": [
    {
      "cell_type": "markdown",
      "metadata": {
        "id": "view-in-github",
        "colab_type": "text"
      },
      "source": [
        "<a href=\"https://colab.research.google.com/github/FranklineSweety/Python/blob/main/Modules/Collection_Modules.ipynb\" target=\"_parent\"><img src=\"https://colab.research.google.com/assets/colab-badge.svg\" alt=\"Open In Colab\"/></a>"
      ]
    },
    {
      "cell_type": "markdown",
      "source": [
        "**1. Using collections modules**"
      ],
      "metadata": {
        "id": "9jX57tDPx2-c"
      }
    },
    {
      "cell_type": "code",
      "source": [
        "from collections import Counter"
      ],
      "metadata": {
        "id": "Ef7Rh_EUyFHE"
      },
      "execution_count": null,
      "outputs": []
    },
    {
      "cell_type": "markdown",
      "source": [
        "Counter with list"
      ],
      "metadata": {
        "id": "84CF_KjMADm-"
      }
    },
    {
      "cell_type": "code",
      "source": [
        "mylist = [1,1,2,2,2,3,3,3,4,4,4,4,5,5,5,5,5,5]"
      ],
      "metadata": {
        "id": "w6Wbi_eAzMOl"
      },
      "execution_count": null,
      "outputs": []
    },
    {
      "cell_type": "code",
      "source": [
        "Counter(mylist)"
      ],
      "metadata": {
        "colab": {
          "base_uri": "https://localhost:8080/"
        },
        "id": "Vh3J8bOFzQ8D",
        "outputId": "0d8b40ff-4362-43cc-bc01-c612f8041c4d"
      },
      "execution_count": null,
      "outputs": [
        {
          "output_type": "execute_result",
          "data": {
            "text/plain": [
              "Counter({1: 2, 2: 3, 3: 3, 4: 4, 5: 6})"
            ]
          },
          "metadata": {},
          "execution_count": 3
        }
      ]
    },
    {
      "cell_type": "code",
      "source": [
        "mylist = ['a','a','a','a',1,1,2,2,2,3,3,4]"
      ],
      "metadata": {
        "id": "_mWQH5cdzd57"
      },
      "execution_count": null,
      "outputs": []
    },
    {
      "cell_type": "code",
      "source": [
        "Counter(mylist)"
      ],
      "metadata": {
        "colab": {
          "base_uri": "https://localhost:8080/"
        },
        "id": "1byBjOhnzvJL",
        "outputId": "4d86a2cd-2b43-4134-fdf5-c0aed44974a8"
      },
      "execution_count": null,
      "outputs": [
        {
          "output_type": "execute_result",
          "data": {
            "text/plain": [
              "Counter({'a': 4, 1: 2, 2: 3, 3: 2, 4: 1})"
            ]
          },
          "metadata": {},
          "execution_count": 5
        }
      ]
    },
    {
      "cell_type": "markdown",
      "source": [
        "Counter with strings"
      ],
      "metadata": {
        "id": "79xy4zb6Ae0f"
      }
    },
    {
      "cell_type": "code",
      "source": [
        "Counter('aaaaaaabbbbbbbbssssssffffff')"
      ],
      "metadata": {
        "colab": {
          "base_uri": "https://localhost:8080/"
        },
        "id": "R2wGMAJ9zxVa",
        "outputId": "15b1ee71-a88d-4667-8644-76b699ec23c2"
      },
      "execution_count": null,
      "outputs": [
        {
          "output_type": "execute_result",
          "data": {
            "text/plain": [
              "Counter({'a': 7, 'b': 8, 's': 6, 'f': 6})"
            ]
          },
          "metadata": {},
          "execution_count": 6
        }
      ]
    },
    {
      "cell_type": "markdown",
      "source": [
        "Counter with sentence"
      ],
      "metadata": {
        "id": "8RP4GGVXArCH"
      }
    },
    {
      "cell_type": "code",
      "source": [
        "sentence = 'How many times does each word show up in this sentence with a word'"
      ],
      "metadata": {
        "id": "iR4E3y2Iz2_1"
      },
      "execution_count": null,
      "outputs": []
    },
    {
      "cell_type": "code",
      "source": [
        "sentence.split()"
      ],
      "metadata": {
        "colab": {
          "base_uri": "https://localhost:8080/"
        },
        "id": "R3SErILK0JGa",
        "outputId": "56d9c69f-8ab3-40c0-8c91-2eff360ba982"
      },
      "execution_count": null,
      "outputs": [
        {
          "output_type": "execute_result",
          "data": {
            "text/plain": [
              "['How',\n",
              " 'many',\n",
              " 'times',\n",
              " 'does',\n",
              " 'each',\n",
              " 'word',\n",
              " 'show',\n",
              " 'up',\n",
              " 'in',\n",
              " 'this',\n",
              " 'sentence',\n",
              " 'with',\n",
              " 'a',\n",
              " 'word']"
            ]
          },
          "metadata": {},
          "execution_count": 8
        }
      ]
    },
    {
      "cell_type": "code",
      "source": [
        "Counter(sentence.split())"
      ],
      "metadata": {
        "colab": {
          "base_uri": "https://localhost:8080/"
        },
        "id": "6_cax05m0K8B",
        "outputId": "6f030f8d-bd39-43df-b83b-4463a903cc92"
      },
      "execution_count": null,
      "outputs": [
        {
          "output_type": "execute_result",
          "data": {
            "text/plain": [
              "Counter({'How': 1,\n",
              "         'many': 1,\n",
              "         'times': 1,\n",
              "         'does': 1,\n",
              "         'each': 1,\n",
              "         'word': 2,\n",
              "         'show': 1,\n",
              "         'up': 1,\n",
              "         'in': 1,\n",
              "         'this': 1,\n",
              "         'sentence': 1,\n",
              "         'with': 1,\n",
              "         'a': 1})"
            ]
          },
          "metadata": {},
          "execution_count": 9
        }
      ]
    },
    {
      "cell_type": "code",
      "source": [
        "Counter(sentence.lower().split())"
      ],
      "metadata": {
        "colab": {
          "base_uri": "https://localhost:8080/"
        },
        "id": "FD9nlXcK0P2x",
        "outputId": "7342f65a-3539-44b6-ebc3-86c2dc22d414"
      },
      "execution_count": null,
      "outputs": [
        {
          "output_type": "execute_result",
          "data": {
            "text/plain": [
              "Counter({'how': 1,\n",
              "         'many': 1,\n",
              "         'times': 1,\n",
              "         'does': 1,\n",
              "         'each': 1,\n",
              "         'word': 2,\n",
              "         'show': 1,\n",
              "         'up': 1,\n",
              "         'in': 1,\n",
              "         'this': 1,\n",
              "         'sentence': 1,\n",
              "         'with': 1,\n",
              "         'a': 1})"
            ]
          },
          "metadata": {},
          "execution_count": 10
        }
      ]
    },
    {
      "cell_type": "code",
      "source": [
        "letters = 'aaaaaabbbbbbbbbbcccccccddddddd'"
      ],
      "metadata": {
        "id": "ljF_rL9W0cAp"
      },
      "execution_count": null,
      "outputs": []
    },
    {
      "cell_type": "markdown",
      "source": [
        "**Common patterns using Counter**"
      ],
      "metadata": {
        "id": "DcESytk600qR"
      }
    },
    {
      "cell_type": "code",
      "source": [
        "c = Counter(letters)"
      ],
      "metadata": {
        "id": "NXWScgys0k1K"
      },
      "execution_count": null,
      "outputs": []
    },
    {
      "cell_type": "code",
      "source": [
        "c"
      ],
      "metadata": {
        "colab": {
          "base_uri": "https://localhost:8080/"
        },
        "id": "_zbD8P3F0nAa",
        "outputId": "99ca8548-9a06-4a61-efe0-9d900e02d734"
      },
      "execution_count": null,
      "outputs": [
        {
          "output_type": "execute_result",
          "data": {
            "text/plain": [
              "Counter({'a': 6, 'b': 10, 'c': 7, 'd': 7})"
            ]
          },
          "metadata": {},
          "execution_count": 13
        }
      ]
    },
    {
      "cell_type": "markdown",
      "source": [
        "You can use other methods in counter module by assigning variables\n"
      ],
      "metadata": {
        "id": "BdzUejAF1kG6"
      }
    },
    {
      "cell_type": "code",
      "source": [
        "c.most_common()"
      ],
      "metadata": {
        "colab": {
          "base_uri": "https://localhost:8080/"
        },
        "id": "qjYHsyE40nnS",
        "outputId": "0f011d11-29a4-4fb5-d58a-bee5ca39856d"
      },
      "execution_count": null,
      "outputs": [
        {
          "output_type": "execute_result",
          "data": {
            "text/plain": [
              "[('b', 10), ('c', 7), ('d', 7), ('a', 6)]"
            ]
          },
          "metadata": {},
          "execution_count": 14
        }
      ]
    },
    {
      "cell_type": "markdown",
      "source": [
        "Adding number- 2 to the function returns the two most common repeated letters"
      ],
      "metadata": {
        "id": "V7Vy9yU48PEw"
      }
    },
    {
      "cell_type": "code",
      "source": [
        "c.most_common(2)"
      ],
      "metadata": {
        "colab": {
          "base_uri": "https://localhost:8080/"
        },
        "id": "k69qr9eV0s7C",
        "outputId": "bf7b5a35-a42c-40e1-fd92-41c14d901ebe"
      },
      "execution_count": null,
      "outputs": [
        {
          "output_type": "execute_result",
          "data": {
            "text/plain": [
              "[('b', 10), ('c', 7)]"
            ]
          },
          "metadata": {},
          "execution_count": 15
        }
      ]
    },
    {
      "cell_type": "markdown",
      "source": [
        "**Common patterns when using the Counter() object**     \n",
        "##### total of all counts- sum(c.values())                 \n",
        "\n",
        "##### reset all counts-      c.clear()                       \n",
        "\n",
        "##### list unique elements- list(c)                         \n",
        "\n",
        "##### convert to a set- set(c)                          \n",
        "\n",
        "##### convert to a regular dictionary-   dict(c)                         \n",
        "##### convert to a list of (elem, cnt) pairs- c.items()                       \n",
        "\n",
        "##### convert from a list of (elem, cnt) pairs- Counter(dict(list_of_pairs))    \n",
        "\n",
        "##### n least common elements- c.most_common()[:-n-1:-1]       \n",
        "\n",
        "##### remove zero and negative counts- c += Counter()                  "
      ],
      "metadata": {
        "id": "6_3sXWlCA3cf"
      }
    },
    {
      "cell_type": "markdown",
      "source": [
        "**List unique values**"
      ],
      "metadata": {
        "id": "XvZ5QDWSFdBt"
      }
    },
    {
      "cell_type": "code",
      "source": [
        "list(c)"
      ],
      "metadata": {
        "colab": {
          "base_uri": "https://localhost:8080/"
        },
        "id": "jrcJbdMJFcjc",
        "outputId": "2f08545c-e59e-4d77-96d5-47a89b44a526"
      },
      "execution_count": null,
      "outputs": [
        {
          "output_type": "execute_result",
          "data": {
            "text/plain": [
              "['a', 'b', 'c', 'd']"
            ]
          },
          "metadata": {},
          "execution_count": 16
        }
      ]
    },
    {
      "cell_type": "code",
      "source": [
        "set(c)\n"
      ],
      "metadata": {
        "id": "DoqXbCON1HMS",
        "colab": {
          "base_uri": "https://localhost:8080/"
        },
        "outputId": "14939cc5-bde6-4a4b-e8d2-c5cb144badca"
      },
      "execution_count": null,
      "outputs": [
        {
          "output_type": "execute_result",
          "data": {
            "text/plain": [
              "{'a', 'b', 'c', 'd'}"
            ]
          },
          "metadata": {},
          "execution_count": 17
        }
      ]
    },
    {
      "cell_type": "code",
      "source": [
        "c.items()"
      ],
      "metadata": {
        "colab": {
          "base_uri": "https://localhost:8080/"
        },
        "id": "y-1ceZRpFveV",
        "outputId": "e1951014-cf72-4f06-b2a3-d4c667cc6eed"
      },
      "execution_count": null,
      "outputs": [
        {
          "output_type": "execute_result",
          "data": {
            "text/plain": [
              "dict_items([('a', 6), ('b', 10), ('c', 7), ('d', 7)])"
            ]
          },
          "metadata": {},
          "execution_count": 18
        }
      ]
    },
    {
      "cell_type": "code",
      "source": [
        "Counter(dict(c))"
      ],
      "metadata": {
        "colab": {
          "base_uri": "https://localhost:8080/"
        },
        "id": "Ftk3GYLKF1nt",
        "outputId": "04e50474-0be0-489f-a235-61b4f47668ba"
      },
      "execution_count": null,
      "outputs": [
        {
          "output_type": "execute_result",
          "data": {
            "text/plain": [
              "Counter({'a': 6, 'b': 10, 'c': 7, 'd': 7})"
            ]
          },
          "metadata": {},
          "execution_count": 20
        }
      ]
    },
    {
      "cell_type": "code",
      "source": [
        "c.most_common()[-1]"
      ],
      "metadata": {
        "colab": {
          "base_uri": "https://localhost:8080/"
        },
        "id": "DG8o7BRpGA6N",
        "outputId": "629fc568-0a1d-4fdc-c3a0-a85f7730cd71"
      },
      "execution_count": null,
      "outputs": [
        {
          "output_type": "execute_result",
          "data": {
            "text/plain": [
              "('a', 6)"
            ]
          },
          "metadata": {},
          "execution_count": 24
        }
      ]
    },
    {
      "cell_type": "code",
      "source": [
        "c"
      ],
      "metadata": {
        "colab": {
          "base_uri": "https://localhost:8080/"
        },
        "id": "jkMYRBOgGKr8",
        "outputId": "98eeef18-fde0-4783-c045-f16c7844e469"
      },
      "execution_count": null,
      "outputs": [
        {
          "output_type": "execute_result",
          "data": {
            "text/plain": [
              "Counter({'a': 6, 'b': 10, 'c': 7, 'd': 7})"
            ]
          },
          "metadata": {},
          "execution_count": 25
        }
      ]
    },
    {
      "cell_type": "markdown",
      "source": [
        "**2. defaultdict**"
      ],
      "metadata": {
        "id": "vqNmmvBJHtE9"
      }
    },
    {
      "cell_type": "markdown",
      "source": [
        "defaultdict is a dictionary-like object which provides all methods provided by a dictionary but takes a first argument (default_factory) as a default data type for the dictionary. Using defaultdict is faster than doing the same using dict.set_default method.\n",
        "\n",
        "**A defaultdict will never raise a KeyError. Any key that does not exist gets the value returned by the default factory.**"
      ],
      "metadata": {
        "id": "zFUX2XSbIPol"
      }
    },
    {
      "cell_type": "code",
      "source": [
        "from collections import defaultdict"
      ],
      "metadata": {
        "id": "XMzGqWdSHaDN"
      },
      "execution_count": null,
      "outputs": []
    },
    {
      "cell_type": "code",
      "source": [
        "d = {'a':10}"
      ],
      "metadata": {
        "id": "JFzOt27mHikV"
      },
      "execution_count": null,
      "outputs": []
    },
    {
      "cell_type": "code",
      "source": [
        "d"
      ],
      "metadata": {
        "colab": {
          "base_uri": "https://localhost:8080/"
        },
        "id": "FYb3BIBNH6rr",
        "outputId": "cc43f8ce-ddf3-4488-8e76-003fbf65cc3d"
      },
      "execution_count": null,
      "outputs": [
        {
          "output_type": "execute_result",
          "data": {
            "text/plain": [
              "{'a': 10}"
            ]
          },
          "metadata": {},
          "execution_count": 28
        }
      ]
    },
    {
      "cell_type": "code",
      "source": [
        "d['a']"
      ],
      "metadata": {
        "colab": {
          "base_uri": "https://localhost:8080/"
        },
        "id": "-PIyJIloH7U8",
        "outputId": "c91290ba-52e9-4959-8db0-96c0dd2a13a3"
      },
      "execution_count": null,
      "outputs": [
        {
          "output_type": "execute_result",
          "data": {
            "text/plain": [
              "10"
            ]
          },
          "metadata": {},
          "execution_count": 29
        }
      ]
    },
    {
      "cell_type": "code",
      "source": [
        "d['wrong']"
      ],
      "metadata": {
        "colab": {
          "base_uri": "https://localhost:8080/",
          "height": 165
        },
        "id": "jn4DH23AH_bU",
        "outputId": "62f00819-4a39-4788-a44e-2164752437b8"
      },
      "execution_count": null,
      "outputs": [
        {
          "output_type": "error",
          "ename": "KeyError",
          "evalue": "ignored",
          "traceback": [
            "\u001b[0;31m---------------------------------------------------------------------------\u001b[0m",
            "\u001b[0;31mKeyError\u001b[0m                                  Traceback (most recent call last)",
            "\u001b[0;32m<ipython-input-30-9e90acfce574>\u001b[0m in \u001b[0;36m<module>\u001b[0;34m\u001b[0m\n\u001b[0;32m----> 1\u001b[0;31m \u001b[0md\u001b[0m\u001b[0;34m[\u001b[0m\u001b[0;34m'wrong'\u001b[0m\u001b[0;34m]\u001b[0m\u001b[0;34m\u001b[0m\u001b[0;34m\u001b[0m\u001b[0m\n\u001b[0m",
            "\u001b[0;31mKeyError\u001b[0m: 'wrong'"
          ]
        }
      ]
    },
    {
      "cell_type": "markdown",
      "source": [
        "In normal dictionary- when we call a wrong key- it returns a key error ☝\n",
        "\n",
        "A defaultdict will assign a default value.\n",
        "\n",
        "we can assign a default value calling a **lambda expression**"
      ],
      "metadata": {
        "id": "ehiKCbsFIvH0"
      }
    },
    {
      "cell_type": "code",
      "source": [
        "d = defaultdict(lambda:0)"
      ],
      "metadata": {
        "id": "Gu3hjOq6IiHk"
      },
      "execution_count": null,
      "outputs": []
    },
    {
      "cell_type": "code",
      "source": [
        "d['correct'] = 100"
      ],
      "metadata": {
        "id": "uByLBC6kJmpM"
      },
      "execution_count": null,
      "outputs": []
    },
    {
      "cell_type": "code",
      "source": [
        "d['correct']"
      ],
      "metadata": {
        "colab": {
          "base_uri": "https://localhost:8080/"
        },
        "id": "1ipiTPcqJz27",
        "outputId": "d508cd58-e1bb-471d-8cc6-7ae9bfa96162"
      },
      "execution_count": null,
      "outputs": [
        {
          "output_type": "execute_result",
          "data": {
            "text/plain": [
              "100"
            ]
          },
          "metadata": {},
          "execution_count": 33
        }
      ]
    },
    {
      "cell_type": "code",
      "source": [
        "d['wrong key']"
      ],
      "metadata": {
        "colab": {
          "base_uri": "https://localhost:8080/"
        },
        "id": "uwtTWYm-J2ab",
        "outputId": "a3b60a45-d210-41d0-fcea-c2e823972346"
      },
      "execution_count": null,
      "outputs": [
        {
          "output_type": "execute_result",
          "data": {
            "text/plain": [
              "0"
            ]
          },
          "metadata": {},
          "execution_count": 34
        }
      ]
    },
    {
      "cell_type": "code",
      "source": [
        "d"
      ],
      "metadata": {
        "colab": {
          "base_uri": "https://localhost:8080/"
        },
        "id": "paIlsVOoKZNk",
        "outputId": "5f3b7ad1-3dcb-4ee4-9231-cc3f33e781f4"
      },
      "execution_count": null,
      "outputs": [
        {
          "output_type": "execute_result",
          "data": {
            "text/plain": [
              "defaultdict(<function __main__.<lambda>()>, {'correct': 100, 'wrong key': 0})"
            ]
          },
          "metadata": {},
          "execution_count": 35
        }
      ]
    },
    {
      "cell_type": "code",
      "source": [
        "mytuple = (10,20,30)"
      ],
      "metadata": {
        "id": "0jFQPYxMKdCf"
      },
      "execution_count": null,
      "outputs": []
    },
    {
      "cell_type": "code",
      "source": [
        "mytuple[0]"
      ],
      "metadata": {
        "colab": {
          "base_uri": "https://localhost:8080/"
        },
        "id": "9qmsYtp8KzYE",
        "outputId": "c2e255c2-80ab-4187-fbfd-fd15416f54e9"
      },
      "execution_count": null,
      "outputs": [
        {
          "output_type": "execute_result",
          "data": {
            "text/plain": [
              "10"
            ]
          },
          "metadata": {},
          "execution_count": 37
        }
      ]
    },
    {
      "cell_type": "markdown",
      "source": [
        "**3. namedtuple**\n",
        "\n",
        "The standard tuple uses numerical indexes to access its members, for example- ☝\n",
        "\n",
        "For simple use cases, this is usually enough. On the other hand, remembering which index should be used for each value can lead to errors, especially if the tuple has a lot of fields and is constructed far from where it is used. A namedtuple assigns names, as well as the numerical index, to each member.\n",
        "\n",
        "Each kind of namedtuple is represented by its own class, created by using the namedtuple() factory function. The arguments are the name of the new class and a string containing the names of the elements.\n",
        "\n",
        "You can basically think of namedtuples as a very quick way of creating a new object/class type with some attribute fields."
      ],
      "metadata": {
        "id": "Zzpy0VN3LDmr"
      }
    },
    {
      "cell_type": "code",
      "source": [
        "from collections import namedtuple"
      ],
      "metadata": {
        "id": "lqNhbHuJK1ST"
      },
      "execution_count": null,
      "outputs": []
    },
    {
      "cell_type": "code",
      "source": [
        "Dog = namedtuple('Dog',['age','breed','name'])"
      ],
      "metadata": {
        "id": "ajlEZfyIK9rL"
      },
      "execution_count": null,
      "outputs": []
    },
    {
      "cell_type": "code",
      "source": [
        "Dog"
      ],
      "metadata": {
        "colab": {
          "base_uri": "https://localhost:8080/"
        },
        "id": "sg7Wfkh2M3ib",
        "outputId": "62d0c699-3e56-4021-b9f5-c2bd27bb064f"
      },
      "execution_count": null,
      "outputs": [
        {
          "output_type": "execute_result",
          "data": {
            "text/plain": [
              "__main__.Dog"
            ]
          },
          "metadata": {},
          "execution_count": 42
        }
      ]
    },
    {
      "cell_type": "code",
      "source": [
        "sammy = Dog(age=5, breed= 'Husky', name= 'Sam')"
      ],
      "metadata": {
        "id": "2GLPeycIMX5z"
      },
      "execution_count": null,
      "outputs": []
    },
    {
      "cell_type": "code",
      "source": [
        "type(sammy)"
      ],
      "metadata": {
        "colab": {
          "base_uri": "https://localhost:8080/"
        },
        "id": "XwiOfWgGMiwL",
        "outputId": "e8aad4cc-c29d-4a70-8100-6e5a6334550d"
      },
      "execution_count": null,
      "outputs": [
        {
          "output_type": "execute_result",
          "data": {
            "text/plain": [
              "__main__.Dog"
            ]
          },
          "metadata": {},
          "execution_count": 44
        }
      ]
    },
    {
      "cell_type": "code",
      "source": [
        "sammy"
      ],
      "metadata": {
        "colab": {
          "base_uri": "https://localhost:8080/"
        },
        "id": "umOuPwqDNC4S",
        "outputId": "7ae0463c-df3c-4aa8-ba9d-6afbb5428782"
      },
      "execution_count": null,
      "outputs": [
        {
          "output_type": "execute_result",
          "data": {
            "text/plain": [
              "Dog(age=5, breed='Husky', name='Sam')"
            ]
          },
          "metadata": {},
          "execution_count": 45
        }
      ]
    },
    {
      "cell_type": "code",
      "source": [
        "sammy.breed"
      ],
      "metadata": {
        "colab": {
          "base_uri": "https://localhost:8080/",
          "height": 36
        },
        "id": "Sxu4us4yNIVS",
        "outputId": "4209ae7f-72e7-4edd-baac-758d889047c5"
      },
      "execution_count": null,
      "outputs": [
        {
          "output_type": "execute_result",
          "data": {
            "text/plain": [
              "'Husky'"
            ],
            "application/vnd.google.colaboratory.intrinsic+json": {
              "type": "string"
            }
          },
          "metadata": {},
          "execution_count": 46
        }
      ]
    },
    {
      "cell_type": "code",
      "source": [
        "sammy.age"
      ],
      "metadata": {
        "colab": {
          "base_uri": "https://localhost:8080/"
        },
        "id": "SO4Up5mlNNE6",
        "outputId": "16b3286d-b1d2-4cfe-c8c9-3393065bf6f4"
      },
      "execution_count": null,
      "outputs": [
        {
          "output_type": "execute_result",
          "data": {
            "text/plain": [
              "5"
            ]
          },
          "metadata": {},
          "execution_count": 47
        }
      ]
    },
    {
      "cell_type": "code",
      "source": [
        "sammy.name"
      ],
      "metadata": {
        "colab": {
          "base_uri": "https://localhost:8080/",
          "height": 36
        },
        "id": "SoS7olDJNO_i",
        "outputId": "15fe84b6-2986-4e48-feef-c7a5b876fa35"
      },
      "execution_count": null,
      "outputs": [
        {
          "output_type": "execute_result",
          "data": {
            "text/plain": [
              "'Sam'"
            ],
            "application/vnd.google.colaboratory.intrinsic+json": {
              "type": "string"
            }
          },
          "metadata": {},
          "execution_count": 48
        }
      ]
    },
    {
      "cell_type": "code",
      "source": [
        "sammy[0]"
      ],
      "metadata": {
        "colab": {
          "base_uri": "https://localhost:8080/"
        },
        "id": "4nbEMvzqNQcC",
        "outputId": "794e7879-aa55-440b-cc47-bf156caaf6bd"
      },
      "execution_count": null,
      "outputs": [
        {
          "output_type": "execute_result",
          "data": {
            "text/plain": [
              "5"
            ]
          },
          "metadata": {},
          "execution_count": 49
        }
      ]
    },
    {
      "cell_type": "code",
      "source": [],
      "metadata": {
        "id": "ZsBLMGjZNS5B"
      },
      "execution_count": null,
      "outputs": []
    }
  ]
}