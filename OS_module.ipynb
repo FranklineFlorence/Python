{
  "nbformat": 4,
  "nbformat_minor": 0,
  "metadata": {
    "colab": {
      "provenance": [],
      "collapsed_sections": [],
      "authorship_tag": "ABX9TyMTd45hsYw0lUnlQBHRBpWH",
      "include_colab_link": true
    },
    "kernelspec": {
      "name": "python3",
      "display_name": "Python 3"
    },
    "language_info": {
      "name": "python"
    }
  },
  "cells": [
    {
      "cell_type": "markdown",
      "metadata": {
        "id": "view-in-github",
        "colab_type": "text"
      },
      "source": [
        "<a href=\"https://colab.research.google.com/github/FranklineSweety/Python/blob/main/OS_module.ipynb\" target=\"_parent\"><img src=\"https://colab.research.google.com/assets/colab-badge.svg\" alt=\"Open In Colab\"/></a>"
      ]
    },
    {
      "cell_type": "markdown",
      "source": [
        "**Shutil and OS module**\n",
        "\n",
        "Opening and Reading files and folders\n",
        "\n",
        "*   The os module and shutil allows us to easily navigate files and directories on the computer and then perform actions on the, such as moving them or deleting them"
      ],
      "metadata": {
        "id": "eJE2tngfgPoD"
      }
    },
    {
      "cell_type": "markdown",
      "source": [
        "\n",
        "\n",
        "---\n",
        "\n"
      ],
      "metadata": {
        "id": "qnhA3WdEhsOJ"
      }
    },
    {
      "cell_type": "markdown",
      "source": [
        "Understanding file paths\n",
        "\n",
        "*   To know the current working directory \n",
        "*   Reports back syntax structure for writing file path"
      ],
      "metadata": {
        "id": "LHocXGJ8hwSR"
      }
    },
    {
      "cell_type": "code",
      "execution_count": 4,
      "metadata": {
        "colab": {
          "base_uri": "https://localhost:8080/",
          "height": 36
        },
        "id": "QcuCaIYoeDS1",
        "outputId": "a24a1326-e98c-4efb-9144-7f685342e15d"
      },
      "outputs": [
        {
          "output_type": "execute_result",
          "data": {
            "text/plain": [
              "'/content'"
            ],
            "application/vnd.google.colaboratory.intrinsic+json": {
              "type": "string"
            }
          },
          "metadata": {},
          "execution_count": 4
        }
      ],
      "source": [
        "pwd"
      ]
    },
    {
      "cell_type": "markdown",
      "source": [
        "**Creating a practice file**"
      ],
      "metadata": {
        "id": "25PibfS2ivgy"
      }
    },
    {
      "cell_type": "code",
      "source": [
        "f = open('practice.txt','w+')"
      ],
      "metadata": {
        "id": "OedAHF87imVc"
      },
      "execution_count": 13,
      "outputs": []
    },
    {
      "cell_type": "code",
      "source": [
        "f.write('test')\n",
        "f.close()"
      ],
      "metadata": {
        "id": "5unHGPhsjMSD"
      },
      "execution_count": 16,
      "outputs": []
    },
    {
      "cell_type": "code",
      "source": [],
      "metadata": {
        "id": "2MthFvycfiIp"
      },
      "execution_count": null,
      "outputs": []
    }
  ]
}