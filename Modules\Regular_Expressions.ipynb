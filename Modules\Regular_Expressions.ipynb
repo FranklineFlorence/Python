{
  "nbformat": 4,
  "nbformat_minor": 0,
  "metadata": {
    "colab": {
      "provenance": [],
      "collapsed_sections": [],
      "authorship_tag": "ABX9TyMYFu4K7WiDdTOO9A+YxEKQ",
      "include_colab_link": true
    },
    "kernelspec": {
      "name": "python3",
      "display_name": "Python 3"
    },
    "language_info": {
      "name": "python"
    }
  },
  "cells": [
    {
      "cell_type": "markdown",
      "metadata": {
        "id": "view-in-github",
        "colab_type": "text"
      },
      "source": [
        "<a href=\"https://colab.research.google.com/github/FranklineSweety/Python/blob/main/Modules%5CRegular_Expressions.ipynb\" target=\"_parent\"><img src=\"https://colab.research.google.com/assets/colab-badge.svg\" alt=\"Open In Colab\"/></a>"
      ]
    },
    {
      "cell_type": "markdown",
      "source": [
        "**Overview of Regular Expressions**\n",
        "\n",
        "\n",
        "\n",
        "\n",
        "* Regular Expressions (sometimes called regex for short) allows a user to search for strings using almost any sort of rule they can come up. For example, finding all capital letters in a string, or finding a phone number in a document.\n",
        "* Regular expressions are notorious for their seemingly strange syntax. This strange syntax is a byproduct of their flexibility. Regular expressions have to be able to filter out any string pattern you can imagine, which is why they have a complex string pattern format.\n",
        "\n",
        "\n",
        "\n"
      ],
      "metadata": {
        "id": "gL3vOVXlnAHB"
      }
    },
    {
      "cell_type": "code",
      "execution_count": 5,
      "metadata": {
        "id": "eeUiYfL9meyS"
      },
      "outputs": [],
      "source": [
        "text = \"The agent's phone number in 408-555-1234. Call soon!\""
      ]
    },
    {
      "cell_type": "code",
      "source": [
        " 'phone' in text"
      ],
      "metadata": {
        "colab": {
          "base_uri": "https://localhost:8080/"
        },
        "id": "yU98fEg2oqnu",
        "outputId": "35c7e37c-166d-45bb-9bfa-152993435247"
      },
      "execution_count": 6,
      "outputs": [
        {
          "output_type": "execute_result",
          "data": {
            "text/plain": [
              "True"
            ]
          },
          "metadata": {},
          "execution_count": 6
        }
      ]
    },
    {
      "cell_type": "code",
      "source": [
        "import re"
      ],
      "metadata": {
        "id": "5cWraCi3owcL"
      },
      "execution_count": 7,
      "outputs": []
    },
    {
      "cell_type": "markdown",
      "source": [
        "let's see the format for regular expressions, because later on we will be searching for patterns that won't have such a simple solution."
      ],
      "metadata": {
        "id": "dAND-iCLo7Uk"
      }
    },
    {
      "cell_type": "code",
      "source": [
        "pattern = 'phone'"
      ],
      "metadata": {
        "id": "eUsopNXjozpr"
      },
      "execution_count": 8,
      "outputs": []
    },
    {
      "cell_type": "code",
      "source": [
        "re.search(pattern, text)"
      ],
      "metadata": {
        "colab": {
          "base_uri": "https://localhost:8080/"
        },
        "id": "YAcCrccGpDqK",
        "outputId": "3484ebed-23ce-4bbe-f458-1f03d892f77a"
      },
      "execution_count": 9,
      "outputs": [
        {
          "output_type": "execute_result",
          "data": {
            "text/plain": [
              "<re.Match object; span=(12, 17), match='phone'>"
            ]
          },
          "metadata": {},
          "execution_count": 9
        }
      ]
    },
    {
      "cell_type": "code",
      "source": [
        "pattern = 'Not in text'"
      ],
      "metadata": {
        "id": "wa2tihghpSUT"
      },
      "execution_count": 10,
      "outputs": []
    },
    {
      "cell_type": "code",
      "source": [
        "re.search(pattern, text)"
      ],
      "metadata": {
        "id": "4Itz9fXzpaKL"
      },
      "execution_count": 11,
      "outputs": []
    },
    {
      "cell_type": "markdown",
      "source": [
        "re.search() will take the pattern, scan the text, and then returns a Match object. If no pattern is found, no output is given"
      ],
      "metadata": {
        "id": "NjKAPMMXpqZC"
      }
    },
    {
      "cell_type": "code",
      "source": [
        "pattern = 'phone'"
      ],
      "metadata": {
        "id": "W3quNSvCpdt6"
      },
      "execution_count": 12,
      "outputs": []
    },
    {
      "cell_type": "code",
      "source": [
        "match = re.search(pattern, text)"
      ],
      "metadata": {
        "id": "UmPEuIp7pxlb"
      },
      "execution_count": 13,
      "outputs": []
    },
    {
      "cell_type": "code",
      "source": [
        "match"
      ],
      "metadata": {
        "colab": {
          "base_uri": "https://localhost:8080/"
        },
        "id": "4lRDToWKp0ob",
        "outputId": "3a88674c-3a1e-43d2-d061-3c8ce972dccf"
      },
      "execution_count": 14,
      "outputs": [
        {
          "output_type": "execute_result",
          "data": {
            "text/plain": [
              "<re.Match object; span=(12, 17), match='phone'>"
            ]
          },
          "metadata": {},
          "execution_count": 14
        }
      ]
    },
    {
      "cell_type": "code",
      "source": [
        "match.span()"
      ],
      "metadata": {
        "colab": {
          "base_uri": "https://localhost:8080/"
        },
        "id": "MRyzyLbgp5x6",
        "outputId": "fb2dc3ad-7797-49f7-8238-0bd23ff69447"
      },
      "execution_count": 15,
      "outputs": [
        {
          "output_type": "execute_result",
          "data": {
            "text/plain": [
              "(12, 17)"
            ]
          },
          "metadata": {},
          "execution_count": 15
        }
      ]
    },
    {
      "cell_type": "code",
      "source": [
        "match.start()"
      ],
      "metadata": {
        "colab": {
          "base_uri": "https://localhost:8080/"
        },
        "id": "eDuOkhLMp8By",
        "outputId": "89f04775-7dde-42cc-a4a8-1a5bc807918d"
      },
      "execution_count": 16,
      "outputs": [
        {
          "output_type": "execute_result",
          "data": {
            "text/plain": [
              "12"
            ]
          },
          "metadata": {},
          "execution_count": 16
        }
      ]
    },
    {
      "cell_type": "code",
      "source": [
        "match.end()"
      ],
      "metadata": {
        "colab": {
          "base_uri": "https://localhost:8080/"
        },
        "id": "ApNweIwZp_wy",
        "outputId": "43531809-7b97-4260-9877-dba6b1887d63"
      },
      "execution_count": 17,
      "outputs": [
        {
          "output_type": "execute_result",
          "data": {
            "text/plain": [
              "17"
            ]
          },
          "metadata": {},
          "execution_count": 17
        }
      ]
    },
    {
      "cell_type": "code",
      "source": [
        "text = \"my phone once, my phone twice\""
      ],
      "metadata": {
        "id": "ejQ2CjhLqBeC"
      },
      "execution_count": 18,
      "outputs": []
    },
    {
      "cell_type": "code",
      "source": [
        "match = re.search('phone', text)"
      ],
      "metadata": {
        "id": "Sy2-i0lQqGjq"
      },
      "execution_count": 19,
      "outputs": []
    },
    {
      "cell_type": "code",
      "source": [
        "match"
      ],
      "metadata": {
        "colab": {
          "base_uri": "https://localhost:8080/"
        },
        "id": "nJWwudtEqPRS",
        "outputId": "68ecda6e-a9af-4b58-9c89-9960646b23b2"
      },
      "execution_count": 20,
      "outputs": [
        {
          "output_type": "execute_result",
          "data": {
            "text/plain": [
              "<re.Match object; span=(3, 8), match='phone'>"
            ]
          },
          "metadata": {},
          "execution_count": 20
        }
      ]
    },
    {
      "cell_type": "markdown",
      "source": [
        " If we wanted a list of all matches, we can use .findall() method:"
      ],
      "metadata": {
        "id": "oCKX2V98qhfo"
      }
    },
    {
      "cell_type": "code",
      "source": [
        "matches = re.findall('phone', text)"
      ],
      "metadata": {
        "id": "KujPjitFqXZi"
      },
      "execution_count": 21,
      "outputs": []
    },
    {
      "cell_type": "code",
      "source": [
        "matches"
      ],
      "metadata": {
        "colab": {
          "base_uri": "https://localhost:8080/"
        },
        "id": "-UqNryMdqrb6",
        "outputId": "f02a471e-5f30-40b7-a9b3-b0322ac93ede"
      },
      "execution_count": 22,
      "outputs": [
        {
          "output_type": "execute_result",
          "data": {
            "text/plain": [
              "['phone', 'phone']"
            ]
          },
          "metadata": {},
          "execution_count": 22
        }
      ]
    },
    {
      "cell_type": "code",
      "source": [
        "len(matches)"
      ],
      "metadata": {
        "colab": {
          "base_uri": "https://localhost:8080/"
        },
        "id": "9TLQNMaLqtkC",
        "outputId": "060f4d7e-5f49-4999-dd51-06fa239b2d02"
      },
      "execution_count": 23,
      "outputs": [
        {
          "output_type": "execute_result",
          "data": {
            "text/plain": [
              "2"
            ]
          },
          "metadata": {},
          "execution_count": 23
        }
      ]
    },
    {
      "cell_type": "markdown",
      "source": [
        "To get actual match objects, use the iterator:"
      ],
      "metadata": {
        "id": "piOION2Bqzkb"
      }
    },
    {
      "cell_type": "code",
      "source": [
        "for match in re.finditer('phone',text):\n",
        "  print(match)"
      ],
      "metadata": {
        "colab": {
          "base_uri": "https://localhost:8080/"
        },
        "id": "QkUs7RoSqvby",
        "outputId": "6558f9ae-56aa-49d8-8439-484776d2597b"
      },
      "execution_count": 24,
      "outputs": [
        {
          "output_type": "stream",
          "name": "stdout",
          "text": [
            "<re.Match object; span=(3, 8), match='phone'>\n",
            "<re.Match object; span=(18, 23), match='phone'>\n"
          ]
        }
      ]
    },
    {
      "cell_type": "code",
      "source": [
        "for match in re.finditer('phone',text):\n",
        "  print(match.span())"
      ],
      "metadata": {
        "colab": {
          "base_uri": "https://localhost:8080/"
        },
        "id": "ukyp9fr3rBha",
        "outputId": "1fd0c332-25d7-4547-ff34-b32256be7edf"
      },
      "execution_count": 25,
      "outputs": [
        {
          "output_type": "stream",
          "name": "stdout",
          "text": [
            "(3, 8)\n",
            "(18, 23)\n"
          ]
        }
      ]
    },
    {
      "cell_type": "code",
      "source": [
        "for match in re.finditer('phone',text):\n",
        "  print(match.group())"
      ],
      "metadata": {
        "colab": {
          "base_uri": "https://localhost:8080/"
        },
        "id": "A7IR500lrazK",
        "outputId": "4476404b-9c78-4ea2-c4be-9194bfbe8c57"
      },
      "execution_count": 26,
      "outputs": [
        {
          "output_type": "stream",
          "name": "stdout",
          "text": [
            "phone\n",
            "phone\n"
          ]
        }
      ]
    },
    {
      "cell_type": "code",
      "source": [
        "match.group()"
      ],
      "metadata": {
        "colab": {
          "base_uri": "https://localhost:8080/",
          "height": 36
        },
        "id": "sbWDFYGDrhnA",
        "outputId": "e72f6bd3-15e4-47ed-dd5c-a3d79e4fa613"
      },
      "execution_count": 27,
      "outputs": [
        {
          "output_type": "execute_result",
          "data": {
            "text/plain": [
              "'phone'"
            ],
            "application/vnd.google.colaboratory.intrinsic+json": {
              "type": "string"
            }
          },
          "metadata": {},
          "execution_count": 27
        }
      ]
    },
    {
      "cell_type": "markdown",
      "source": [
        "### **Patterns**\n",
        "\n",
        "We could just use search method if we know the exact phone or email, but what if we don't know it? We may know the general format, and we can use that along with regular expressions to search the document for strings that match a particular pattern.\n",
        "\n",
        "**Character identifiers**\n",
        "![image.png](data:image/png;base64,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)\n",
        "\n",
        "\n"
      ],
      "metadata": {
        "id": "0pbCnV-Srs6D"
      }
    },
    {
      "cell_type": "markdown",
      "source": [
        "**Identifiers for Characters in Patterns**"
      ],
      "metadata": {
        "id": "nMbeVGeXufWM"
      }
    },
    {
      "cell_type": "code",
      "source": [
        "text = \"My phone number is 408-555-1234\""
      ],
      "metadata": {
        "id": "q2BqNGturpZS"
      },
      "execution_count": 28,
      "outputs": []
    },
    {
      "cell_type": "code",
      "source": [
        "phone = re.search('408-555-1234',text)"
      ],
      "metadata": {
        "id": "HCKwO1e_t0lT"
      },
      "execution_count": 29,
      "outputs": []
    },
    {
      "cell_type": "code",
      "source": [
        "phone"
      ],
      "metadata": {
        "colab": {
          "base_uri": "https://localhost:8080/"
        },
        "id": "2OpfpZ3Gt7-B",
        "outputId": "dab7344b-b365-42cf-e11b-5b63a5f0883e"
      },
      "execution_count": 30,
      "outputs": [
        {
          "output_type": "execute_result",
          "data": {
            "text/plain": [
              "<re.Match object; span=(19, 31), match='408-555-1234'>"
            ]
          },
          "metadata": {},
          "execution_count": 30
        }
      ]
    },
    {
      "cell_type": "markdown",
      "source": [
        "when we don't know the number?"
      ],
      "metadata": {
        "id": "IAeCyy05t-UJ"
      }
    },
    {
      "cell_type": "code",
      "source": [
        "phone = re.search(r'\\d\\d\\d-\\d\\d\\d-\\d\\d\\d\\d',text)"
      ],
      "metadata": {
        "id": "0gHUzgdnt825"
      },
      "execution_count": 31,
      "outputs": []
    },
    {
      "cell_type": "code",
      "source": [
        "phone"
      ],
      "metadata": {
        "colab": {
          "base_uri": "https://localhost:8080/"
        },
        "id": "7acrR_zEuR5e",
        "outputId": "ebd94491-9346-46f8-9f7e-a8789bcfc7e7"
      },
      "execution_count": 32,
      "outputs": [
        {
          "output_type": "execute_result",
          "data": {
            "text/plain": [
              "<re.Match object; span=(19, 31), match='408-555-1234'>"
            ]
          },
          "metadata": {},
          "execution_count": 32
        }
      ]
    },
    {
      "cell_type": "markdown",
      "source": [
        "**Quantifiers**\n",
        "\n",
        "![image.png](data:image/png;base64,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)"
      ],
      "metadata": {
        "id": "8TAdmWhFulL7"
      }
    },
    {
      "cell_type": "code",
      "source": [
        "phone = re.search(r'\\d{3}-\\d{3}-\\d{4}',text)"
      ],
      "metadata": {
        "id": "32zxuY55vJwS"
      },
      "execution_count": 33,
      "outputs": []
    },
    {
      "cell_type": "code",
      "source": [
        "phone"
      ],
      "metadata": {
        "colab": {
          "base_uri": "https://localhost:8080/"
        },
        "id": "chxlC3davj8Q",
        "outputId": "422508f4-e4df-44a9-8a85-ff93ef296404"
      },
      "execution_count": 34,
      "outputs": [
        {
          "output_type": "execute_result",
          "data": {
            "text/plain": [
              "<re.Match object; span=(19, 31), match='408-555-1234'>"
            ]
          },
          "metadata": {},
          "execution_count": 34
        }
      ]
    },
    {
      "cell_type": "markdown",
      "source": [
        "**Groups**\n",
        "\n",
        "What if we wanted to do two tasks, find phone numbers, but also be able to quickly extract their area code (the first three digits). We can use groups for any general task that involves grouping together regular expressions (so that we can later break them down).\n",
        "\n",
        "Using the phone number example, we can separate groups of regular expressions using parenthesis:"
      ],
      "metadata": {
        "id": "f6RRgZcOvqy4"
      }
    },
    {
      "cell_type": "code",
      "source": [
        "phone_pattern = re.compile(r'(\\d{3})-(\\d{3})-(\\d{4})')"
      ],
      "metadata": {
        "id": "ELGbFjP-vksI"
      },
      "execution_count": 35,
      "outputs": []
    },
    {
      "cell_type": "markdown",
      "source": [
        "**compile function**- It compiles together different regular expression pattern codes"
      ],
      "metadata": {
        "id": "JgbAJR0ov8P0"
      }
    },
    {
      "cell_type": "code",
      "source": [
        "results = re.search(phone_pattern, text)"
      ],
      "metadata": {
        "id": "5p1EiawWwPI6"
      },
      "execution_count": 36,
      "outputs": []
    },
    {
      "cell_type": "code",
      "source": [
        "results.group()"
      ],
      "metadata": {
        "colab": {
          "base_uri": "https://localhost:8080/",
          "height": 36
        },
        "id": "qX_SHXDyw1kh",
        "outputId": "ca1ee1c8-8a4b-4ddc-c3a7-2e34e689031a"
      },
      "execution_count": 37,
      "outputs": [
        {
          "output_type": "execute_result",
          "data": {
            "text/plain": [
              "'408-555-1234'"
            ],
            "application/vnd.google.colaboratory.intrinsic+json": {
              "type": "string"
            }
          },
          "metadata": {},
          "execution_count": 37
        }
      ]
    },
    {
      "cell_type": "markdown",
      "source": [
        "*   Find based on group position\n",
        "*   remember groups are separated by parenthesis ()\n",
        "*   Something to note is that group ordering starts at 1. Passing in 0 returns everything"
      ],
      "metadata": {
        "id": "rfrJK0e3xqPI"
      }
    },
    {
      "cell_type": "code",
      "source": [
        "results.group(1)"
      ],
      "metadata": {
        "colab": {
          "base_uri": "https://localhost:8080/",
          "height": 36
        },
        "id": "nAYCZqsrxQTP",
        "outputId": "3dcc96da-6643-40d9-fe97-5d5bfc7ed978"
      },
      "execution_count": 38,
      "outputs": [
        {
          "output_type": "execute_result",
          "data": {
            "text/plain": [
              "'408'"
            ],
            "application/vnd.google.colaboratory.intrinsic+json": {
              "type": "string"
            }
          },
          "metadata": {},
          "execution_count": 38
        }
      ]
    },
    {
      "cell_type": "code",
      "source": [
        "results.group(2)"
      ],
      "metadata": {
        "colab": {
          "base_uri": "https://localhost:8080/",
          "height": 36
        },
        "id": "6TXP6xlXxVZH",
        "outputId": "93e920cd-a1a1-4f4f-d8c8-f2e880ce83cf"
      },
      "execution_count": 39,
      "outputs": [
        {
          "output_type": "execute_result",
          "data": {
            "text/plain": [
              "'555'"
            ],
            "application/vnd.google.colaboratory.intrinsic+json": {
              "type": "string"
            }
          },
          "metadata": {},
          "execution_count": 39
        }
      ]
    },
    {
      "cell_type": "code",
      "source": [
        "results.group(3)"
      ],
      "metadata": {
        "colab": {
          "base_uri": "https://localhost:8080/",
          "height": 36
        },
        "id": "1ptjPJ43xbKP",
        "outputId": "257ea3aa-eb31-4199-9f33-31bb38d61994"
      },
      "execution_count": 40,
      "outputs": [
        {
          "output_type": "execute_result",
          "data": {
            "text/plain": [
              "'1234'"
            ],
            "application/vnd.google.colaboratory.intrinsic+json": {
              "type": "string"
            }
          },
          "metadata": {},
          "execution_count": 40
        }
      ]
    },
    {
      "cell_type": "markdown",
      "source": [
        "When given a non-position:"
      ],
      "metadata": {
        "id": "tULYqG3VyCr4"
      }
    },
    {
      "cell_type": "code",
      "source": [
        "results.group(4)"
      ],
      "metadata": {
        "colab": {
          "base_uri": "https://localhost:8080/",
          "height": 165
        },
        "id": "D0TEVWh4xdLY",
        "outputId": "72db25c6-a391-4a8c-88a0-35a05150daf7"
      },
      "execution_count": 41,
      "outputs": [
        {
          "output_type": "error",
          "ename": "IndexError",
          "evalue": "ignored",
          "traceback": [
            "\u001b[0;31m---------------------------------------------------------------------------\u001b[0m",
            "\u001b[0;31mIndexError\u001b[0m                                Traceback (most recent call last)",
            "\u001b[0;32m<ipython-input-41-33984beeecd9>\u001b[0m in \u001b[0;36m<module>\u001b[0;34m\u001b[0m\n\u001b[0;32m----> 1\u001b[0;31m \u001b[0mresults\u001b[0m\u001b[0;34m.\u001b[0m\u001b[0mgroup\u001b[0m\u001b[0;34m(\u001b[0m\u001b[0;36m4\u001b[0m\u001b[0;34m)\u001b[0m\u001b[0;34m\u001b[0m\u001b[0;34m\u001b[0m\u001b[0m\n\u001b[0m",
            "\u001b[0;31mIndexError\u001b[0m: no such group"
          ]
        }
      ]
    },
    {
      "cell_type": "markdown",
      "source": [
        "## **Additional Regex Syntax**\n",
        "**or operator**\n",
        "\n",
        "\n"
      ],
      "metadata": {
        "id": "hdU27p2syPAB"
      }
    },
    {
      "cell_type": "code",
      "source": [
        "re.search(r'cat', 'the cat is here')"
      ],
      "metadata": {
        "colab": {
          "base_uri": "https://localhost:8080/"
        },
        "id": "DEZdUXB3xhMQ",
        "outputId": "c7d6975d-02bf-4378-e91d-354d3d041f06"
      },
      "execution_count": 42,
      "outputs": [
        {
          "output_type": "execute_result",
          "data": {
            "text/plain": [
              "<re.Match object; span=(4, 7), match='cat'>"
            ]
          },
          "metadata": {},
          "execution_count": 42
        }
      ]
    },
    {
      "cell_type": "code",
      "source": [
        "re.search(r'cat', 'the dog is here')"
      ],
      "metadata": {
        "id": "v7TUm5ASyueY"
      },
      "execution_count": 43,
      "outputs": []
    },
    {
      "cell_type": "markdown",
      "source": [
        "What if we need to search for  a cat or dog? We can use pipe operator (i.e. or operator)"
      ],
      "metadata": {
        "id": "QVreir2ryzer"
      }
    },
    {
      "cell_type": "code",
      "source": [
        "re.search(r'cat|dog', 'the dog is here')"
      ],
      "metadata": {
        "colab": {
          "base_uri": "https://localhost:8080/"
        },
        "id": "LZIop4lZyxNn",
        "outputId": "8b934881-af4f-4a80-b7c9-db4a208ec5c9"
      },
      "execution_count": 44,
      "outputs": [
        {
          "output_type": "execute_result",
          "data": {
            "text/plain": [
              "<re.Match object; span=(4, 7), match='dog'>"
            ]
          },
          "metadata": {},
          "execution_count": 44
        }
      ]
    },
    {
      "cell_type": "markdown",
      "source": [
        "**The Wildcard Character**\n",
        "\n",
        "Use a \"wildcard\" as a placement that will match any character placed there. You can use a simple period . for this. For example"
      ],
      "metadata": {
        "id": "uKRnUg3eV4B8"
      }
    },
    {
      "cell_type": "code",
      "source": [
        "re.findall(r'at','The cat in the hat went splat.')"
      ],
      "metadata": {
        "id": "gdhdblumzi9P",
        "colab": {
          "base_uri": "https://localhost:8080/"
        },
        "outputId": "ef0d051a-80f9-4c36-b481-c990ab634177"
      },
      "execution_count": 47,
      "outputs": [
        {
          "output_type": "execute_result",
          "data": {
            "text/plain": [
              "['at', 'at', 'at']"
            ]
          },
          "metadata": {},
          "execution_count": 47
        }
      ]
    },
    {
      "cell_type": "code",
      "source": [
        "re.findall(r'.at','The cat in the hat went splat.')"
      ],
      "metadata": {
        "colab": {
          "base_uri": "https://localhost:8080/"
        },
        "id": "i_MzdaJJU58z",
        "outputId": "4a3a530e-a2d1-40e5-921e-54fd142f6681"
      },
      "execution_count": 48,
      "outputs": [
        {
          "output_type": "execute_result",
          "data": {
            "text/plain": [
              "['cat', 'hat', 'lat']"
            ]
          },
          "metadata": {},
          "execution_count": 48
        }
      ]
    },
    {
      "cell_type": "code",
      "source": [
        "re.findall(r'...at','The cat in the hat went splat.')"
      ],
      "metadata": {
        "colab": {
          "base_uri": "https://localhost:8080/"
        },
        "id": "B3vuPgGCVgK7",
        "outputId": "09a125ce-fe23-4c5f-ac71-97bca4c0fe9d"
      },
      "execution_count": 49,
      "outputs": [
        {
          "output_type": "execute_result",
          "data": {
            "text/plain": [
              "['e cat', 'e hat', 'splat']"
            ]
          },
          "metadata": {},
          "execution_count": 49
        }
      ]
    },
    {
      "cell_type": "markdown",
      "source": [
        "**Starts with and Ends With**\n",
        "\n",
        "We can use the ^ to signal starts with, and the $ to signal ends with"
      ],
      "metadata": {
        "id": "i0AKkqLXlV7t"
      }
    },
    {
      "cell_type": "code",
      "source": [
        "#Starts with a number\n",
        "re.findall(r'^\\d','1 is a number')"
      ],
      "metadata": {
        "colab": {
          "base_uri": "https://localhost:8080/"
        },
        "id": "km66lLj-Vjzq",
        "outputId": "51b21913-b1b8-48e3-9439-bb764fa16009"
      },
      "execution_count": 50,
      "outputs": [
        {
          "output_type": "execute_result",
          "data": {
            "text/plain": [
              "['1']"
            ]
          },
          "metadata": {},
          "execution_count": 50
        }
      ]
    },
    {
      "cell_type": "code",
      "source": [
        "#Ends with a number\n",
        "re.findall(r'\\d$','The number is 2')"
      ],
      "metadata": {
        "colab": {
          "base_uri": "https://localhost:8080/"
        },
        "id": "sEM_L1vOlKGE",
        "outputId": "0c8a40f8-19ce-47da-8492-95bc48a58774"
      },
      "execution_count": 51,
      "outputs": [
        {
          "output_type": "execute_result",
          "data": {
            "text/plain": [
              "['2']"
            ]
          },
          "metadata": {},
          "execution_count": 51
        }
      ]
    },
    {
      "cell_type": "code",
      "source": [
        "#Works if only it starts with a number\n",
        "re.findall(r'^\\d','number is 1')"
      ],
      "metadata": {
        "colab": {
          "base_uri": "https://localhost:8080/"
        },
        "id": "WXzaE30umIVy",
        "outputId": "80ccc070-2abe-478e-db04-3d627a736e9a"
      },
      "execution_count": 54,
      "outputs": [
        {
          "output_type": "execute_result",
          "data": {
            "text/plain": [
              "[]"
            ]
          },
          "metadata": {},
          "execution_count": 54
        }
      ]
    },
    {
      "cell_type": "markdown",
      "source": [
        "**Exclusion**\n",
        "\n",
        "To exclude characters, we can use the ^ symbol in conjunction with a set of brackets []. Anything inside the brackets is excluded."
      ],
      "metadata": {
        "id": "KowWtdogmd1S"
      }
    },
    {
      "cell_type": "code",
      "source": [
        "phrase = \"there are 3 numbers 34 inside 5 this sentence.\""
      ],
      "metadata": {
        "id": "vMpsxZf0mQom"
      },
      "execution_count": 55,
      "outputs": []
    },
    {
      "cell_type": "code",
      "source": [
        "pattern = r'[^\\d]'"
      ],
      "metadata": {
        "id": "W4lmNrwzmpyI"
      },
      "execution_count": 60,
      "outputs": []
    },
    {
      "cell_type": "code",
      "source": [
        "re.findall(pattern,phrase)"
      ],
      "metadata": {
        "colab": {
          "base_uri": "https://localhost:8080/"
        },
        "id": "_2aVee8fmxTB",
        "outputId": "760c6108-ad38-40d9-ce44-989afd2242c7"
      },
      "execution_count": 61,
      "outputs": [
        {
          "output_type": "execute_result",
          "data": {
            "text/plain": [
              "['t',\n",
              " 'h',\n",
              " 'e',\n",
              " 'r',\n",
              " 'e',\n",
              " ' ',\n",
              " 'a',\n",
              " 'r',\n",
              " 'e',\n",
              " ' ',\n",
              " ' ',\n",
              " 'n',\n",
              " 'u',\n",
              " 'm',\n",
              " 'b',\n",
              " 'e',\n",
              " 'r',\n",
              " 's',\n",
              " ' ',\n",
              " ' ',\n",
              " 'i',\n",
              " 'n',\n",
              " 's',\n",
              " 'i',\n",
              " 'd',\n",
              " 'e',\n",
              " ' ',\n",
              " ' ',\n",
              " 't',\n",
              " 'h',\n",
              " 'i',\n",
              " 's',\n",
              " ' ',\n",
              " 's',\n",
              " 'e',\n",
              " 'n',\n",
              " 't',\n",
              " 'e',\n",
              " 'n',\n",
              " 'c',\n",
              " 'e',\n",
              " '.']"
            ]
          },
          "metadata": {},
          "execution_count": 61
        }
      ]
    },
    {
      "cell_type": "markdown",
      "source": [
        "To get the words back together, use a + sign"
      ],
      "metadata": {
        "id": "gAFMxL6snSYf"
      }
    },
    {
      "cell_type": "code",
      "source": [
        "re.findall(r'[^\\d]+',phrase)"
      ],
      "metadata": {
        "colab": {
          "base_uri": "https://localhost:8080/"
        },
        "id": "0_h35-Rhm2GM",
        "outputId": "9864d4f0-0356-4b67-9d6c-11ce1b122e9f"
      },
      "execution_count": 64,
      "outputs": [
        {
          "output_type": "execute_result",
          "data": {
            "text/plain": [
              "['there are ', ' numbers ', ' inside ', ' this sentence.']"
            ]
          },
          "metadata": {},
          "execution_count": 64
        }
      ]
    },
    {
      "cell_type": "markdown",
      "source": [
        "To remove punctuation:"
      ],
      "metadata": {
        "id": "nFBT5okpnYwS"
      }
    },
    {
      "cell_type": "code",
      "source": [
        "test_phrase = 'This is a string! But it has punctuation. How can we remove it?'"
      ],
      "metadata": {
        "id": "bwbh1cQCnL4z"
      },
      "execution_count": 65,
      "outputs": []
    },
    {
      "cell_type": "code",
      "source": [
        "re.findall(r'[^!.?]+',test_phrase)"
      ],
      "metadata": {
        "colab": {
          "base_uri": "https://localhost:8080/"
        },
        "id": "cdIDxQCzndmc",
        "outputId": "af5e4aa7-63a6-4f39-9a08-6af19b4b5591"
      },
      "execution_count": 69,
      "outputs": [
        {
          "output_type": "execute_result",
          "data": {
            "text/plain": [
              "['This is a string', ' But it has punctuation', ' How can we remove it']"
            ]
          },
          "metadata": {},
          "execution_count": 69
        }
      ]
    },
    {
      "cell_type": "code",
      "source": [
        "#space added\n",
        "re.findall(r'[^!.? ]+',test_phrase)"
      ],
      "metadata": {
        "colab": {
          "base_uri": "https://localhost:8080/"
        },
        "id": "XsLU_PbioAHy",
        "outputId": "9c06a4f5-9993-4d35-d3e9-895c3db37527"
      },
      "execution_count": 70,
      "outputs": [
        {
          "output_type": "execute_result",
          "data": {
            "text/plain": [
              "['This',\n",
              " 'is',\n",
              " 'a',\n",
              " 'string',\n",
              " 'But',\n",
              " 'it',\n",
              " 'has',\n",
              " 'punctuation',\n",
              " 'How',\n",
              " 'can',\n",
              " 'we',\n",
              " 'remove',\n",
              " 'it']"
            ]
          },
          "metadata": {},
          "execution_count": 70
        }
      ]
    },
    {
      "cell_type": "code",
      "source": [
        "clean = re.findall(r'[^!.? ]+',test_phrase)"
      ],
      "metadata": {
        "id": "nF5gkCpgosai"
      },
      "execution_count": 71,
      "outputs": []
    },
    {
      "cell_type": "code",
      "source": [
        "clean"
      ],
      "metadata": {
        "colab": {
          "base_uri": "https://localhost:8080/"
        },
        "id": "1sU-A_fVo1iP",
        "outputId": "d69f31b7-666e-4056-caa7-ab4f0f070f19"
      },
      "execution_count": 72,
      "outputs": [
        {
          "output_type": "execute_result",
          "data": {
            "text/plain": [
              "['This',\n",
              " 'is',\n",
              " 'a',\n",
              " 'string',\n",
              " 'But',\n",
              " 'it',\n",
              " 'has',\n",
              " 'punctuation',\n",
              " 'How',\n",
              " 'can',\n",
              " 'we',\n",
              " 'remove',\n",
              " 'it']"
            ]
          },
          "metadata": {},
          "execution_count": 72
        }
      ]
    },
    {
      "cell_type": "code",
      "source": [
        "' '.join(clean)"
      ],
      "metadata": {
        "colab": {
          "base_uri": "https://localhost:8080/",
          "height": 36
        },
        "id": "UEvTkY0uo4lP",
        "outputId": "8d592ba7-89a4-48d9-99c0-39727094e393"
      },
      "execution_count": 73,
      "outputs": [
        {
          "output_type": "execute_result",
          "data": {
            "text/plain": [
              "'This is a string But it has punctuation How can we remove it'"
            ],
            "application/vnd.google.colaboratory.intrinsic+json": {
              "type": "string"
            }
          },
          "metadata": {},
          "execution_count": 73
        }
      ]
    },
    {
      "cell_type": "markdown",
      "source": [
        "**Brackets for Grouping**\n",
        "\n",
        "example: if we wanted to find hyphenated words:"
      ],
      "metadata": {
        "id": "FZZMQBwbpGbZ"
      }
    },
    {
      "cell_type": "code",
      "source": [
        "text = 'Only find the hypen-words in this sentence. But you do not know how long-ish they are'"
      ],
      "metadata": {
        "id": "qcXx6Ffio-5f"
      },
      "execution_count": 74,
      "outputs": []
    },
    {
      "cell_type": "code",
      "source": [
        "pattern = r'[\\w]+'"
      ],
      "metadata": {
        "id": "uotnrIkEpVwl"
      },
      "execution_count": 78,
      "outputs": []
    },
    {
      "cell_type": "code",
      "source": [
        "re.findall(pattern, text)"
      ],
      "metadata": {
        "colab": {
          "base_uri": "https://localhost:8080/"
        },
        "id": "80WfRHj4ppnK",
        "outputId": "4c2234ea-7caa-41d4-d2fb-9631e0d5db47"
      },
      "execution_count": 79,
      "outputs": [
        {
          "output_type": "execute_result",
          "data": {
            "text/plain": [
              "['Only',\n",
              " 'find',\n",
              " 'the',\n",
              " 'hypen',\n",
              " 'words',\n",
              " 'in',\n",
              " 'this',\n",
              " 'sentence',\n",
              " 'But',\n",
              " 'you',\n",
              " 'do',\n",
              " 'not',\n",
              " 'know',\n",
              " 'how',\n",
              " 'long',\n",
              " 'ish',\n",
              " 'they',\n",
              " 'are']"
            ]
          },
          "metadata": {},
          "execution_count": 79
        }
      ]
    },
    {
      "cell_type": "code",
      "source": [
        "pattern = r'[\\w]+-'"
      ],
      "metadata": {
        "id": "-pg7sQjCp7ni"
      },
      "execution_count": 80,
      "outputs": []
    },
    {
      "cell_type": "code",
      "source": [
        "re.findall(pattern, text)"
      ],
      "metadata": {
        "colab": {
          "base_uri": "https://localhost:8080/"
        },
        "id": "nhcnMTBUqFXy",
        "outputId": "968c97b5-87f1-40aa-d3a4-0cdbcd123610"
      },
      "execution_count": 82,
      "outputs": [
        {
          "output_type": "execute_result",
          "data": {
            "text/plain": [
              "['hypen-', 'long-']"
            ]
          },
          "metadata": {},
          "execution_count": 82
        }
      ]
    },
    {
      "cell_type": "code",
      "source": [
        "pattern = r'[\\w]+-[\\w]+'"
      ],
      "metadata": {
        "id": "iHn3UuCLqGoK"
      },
      "execution_count": 83,
      "outputs": []
    },
    {
      "cell_type": "code",
      "source": [
        "re.findall(pattern,text)"
      ],
      "metadata": {
        "colab": {
          "base_uri": "https://localhost:8080/"
        },
        "id": "O1xSAXVkqX0q",
        "outputId": "638050f3-5bca-4ad8-83f8-f0c1d4b2625f"
      },
      "execution_count": 84,
      "outputs": [
        {
          "output_type": "execute_result",
          "data": {
            "text/plain": [
              "['hypen-words', 'long-ish']"
            ]
          },
          "metadata": {},
          "execution_count": 84
        }
      ]
    },
    {
      "cell_type": "markdown",
      "source": [
        "**Parenthesis for Multiple Options**\n",
        "\n",
        "If we have multiple options for matching, we can use parenthesis to list out these options"
      ],
      "metadata": {
        "id": "_57LI9E3qio5"
      }
    },
    {
      "cell_type": "code",
      "source": [
        "# Find words that start with cat and end with one of these options: 'fish','nap', or 'claw'\n",
        "text = 'Hello, would you like some catfish?'\n",
        "texttwo = \"Hello, would you like to take a catnap?\"\n",
        "textthree = \"Hello, have you seen this caterpillar?\""
      ],
      "metadata": {
        "id": "B-2TFdtPqbUK"
      },
      "execution_count": 85,
      "outputs": []
    },
    {
      "cell_type": "code",
      "source": [
        "re.search(r'cat(fish|nap|claw)',text)"
      ],
      "metadata": {
        "colab": {
          "base_uri": "https://localhost:8080/"
        },
        "id": "44S1-oI3qwES",
        "outputId": "48c4c184-9cb6-4340-8752-f4a996656805"
      },
      "execution_count": 89,
      "outputs": [
        {
          "output_type": "execute_result",
          "data": {
            "text/plain": [
              "<re.Match object; span=(27, 34), match='catfish'>"
            ]
          },
          "metadata": {},
          "execution_count": 89
        }
      ]
    },
    {
      "cell_type": "code",
      "source": [
        "re.search(r'cat(fish|nap|claw)',texttwo)"
      ],
      "metadata": {
        "colab": {
          "base_uri": "https://localhost:8080/"
        },
        "id": "9mPoWOhGq4C6",
        "outputId": "a0fc7fe6-e02e-4d93-ed8c-f2baf120fcdb"
      },
      "execution_count": 90,
      "outputs": [
        {
          "output_type": "execute_result",
          "data": {
            "text/plain": [
              "<re.Match object; span=(32, 38), match='catnap'>"
            ]
          },
          "metadata": {},
          "execution_count": 90
        }
      ]
    },
    {
      "cell_type": "code",
      "source": [
        "re.search(r'cat(fish|nap|claw)',textthree)"
      ],
      "metadata": {
        "id": "qWf0B_ZRra1F"
      },
      "execution_count": 91,
      "outputs": []
    },
    {
      "cell_type": "code",
      "source": [
        "re.search(r'cat(fish|nap|erpillar)',textthree)"
      ],
      "metadata": {
        "colab": {
          "base_uri": "https://localhost:8080/"
        },
        "id": "evEZkaPdreCt",
        "outputId": "02e79b86-e268-4227-9347-c5b9066f5c7d"
      },
      "execution_count": 93,
      "outputs": [
        {
          "output_type": "execute_result",
          "data": {
            "text/plain": [
              "<re.Match object; span=(26, 37), match='caterpillar'>"
            ]
          },
          "metadata": {},
          "execution_count": 93
        }
      ]
    }
  ]
}